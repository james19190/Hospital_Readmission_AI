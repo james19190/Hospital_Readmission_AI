{
 "cells": [
  {
   "cell_type": "code",
   "execution_count": 2,
   "metadata": {},
   "outputs": [
    {
     "name": "stdout",
     "output_type": "stream",
     "text": [
      "Type of data: <class 'numpy.ndarray'>\n",
      "\n",
      "Length of the data: 100\n",
      "\n",
      "Data: ['d_008' 'd_038' 'd_041' 'd_070' 'd_197' 'd_198' 'd_244' 'd_250' 'd_263'\n",
      " 'd_272' 'd_274' 'd_275' 'd_276' 'd_278' 'd_280' 'd_284' 'd_285' 'd_287'\n",
      " 'd_288' 'd_294' 'd_295' 'd_296' 'd_300' 'd_303' 'd_305' 'd_309' 'd_311'\n",
      " 'd_327' 'd_338' 'd_345' 'd_346' 'd_348' 'd_357' 'd_362' 'd_365' 'd_401'\n",
      " 'd_403' 'd_404' 'd_410' 'd_412' 'd_414' 'd_416' 'd_424' 'd_425' 'd_426'\n",
      " 'd_427' 'd_428' 'd_438' 'd_440' 'd_443' 'd_453' 'd_456' 'd_458' 'd_459'\n",
      " 'd_486' 'd_491' 'd_493' 'd_496' 'd_511' 'd_518' 'd_530' 'd_536' 'd_553'\n",
      " 'd_560' 'd_562' 'd_564' 'd_569' 'd_571' 'd_572' 'd_576' 'd_577' 'd_578'\n",
      " 'd_584' 'd_585' 'd_599' 'd_600' 'd_648' 'd_682' 'd_707' 'd_715' 'd_719'\n",
      " 'd_724' 'd_729' 'd_733' 'd_780' 'd_781' 'd_782' 'd_783' 'd_784' 'd_785'\n",
      " 'd_786' 'd_787' 'd_788' 'd_789' 'd_790' 'd_799' 'd_995' 'd_996' 'd_997'\n",
      " 'd_998']\n",
      "\n"
     ]
    }
   ],
   "source": [
    "import pickle\n",
    "\n",
    "X_filePath = '../data/top_100_list.pkl'\n",
    "with open(X_filePath, 'rb') as f:\n",
    "    data = pickle.load(f)\n",
    "\n",
    "print(f\"Type of data: {type(data)}\\n\")\n",
    "print(f\"Length of the data: {len(data)}\\n\")\n",
    "print(f\"Data: {data}\\n\")\n",
    "\n"
   ]
  },
  {
   "cell_type": "code",
   "execution_count": 6,
   "metadata": {},
   "outputs": [
    {
     "name": "stdout",
     "output_type": "stream",
     "text": [
      "(100,)\n"
     ]
    }
   ],
   "source": [
    "print(data.shape)"
   ]
  }
 ],
 "metadata": {
  "kernelspec": {
   "display_name": "Python 3",
   "language": "python",
   "name": "python3"
  },
  "language_info": {
   "codemirror_mode": {
    "name": "ipython",
    "version": 3
   },
   "file_extension": ".py",
   "mimetype": "text/x-python",
   "name": "python",
   "nbconvert_exporter": "python",
   "pygments_lexer": "ipython3",
   "version": "3.11.9"
  }
 },
 "nbformat": 4,
 "nbformat_minor": 2
}
