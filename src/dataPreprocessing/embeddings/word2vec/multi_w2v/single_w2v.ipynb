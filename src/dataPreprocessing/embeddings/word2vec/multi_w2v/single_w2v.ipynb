{
 "cells": [
  {
   "cell_type": "markdown",
   "metadata": {},
   "source": [
    "### Multiple Word2Vec\n",
    "\n",
    "- 3 seperate w2v embedding for diagnosis, procedures, and drugs"
   ]
  },
  {
   "cell_type": "code",
   "execution_count": 1,
   "metadata": {},
   "outputs": [],
   "source": [
    "# imports\n",
    "import pickle\n",
    "from gensim.models import Word2Vec"
   ]
  },
  {
   "cell_type": "code",
   "execution_count": 4,
   "metadata": {},
   "outputs": [],
   "source": [
    "# Load data\n",
    "X_filePath = '../../../../data/preprocessed_X_visit_over3.pkl'\n",
    "with open(X_filePath, 'rb') as f:\n",
    "    data = pickle.load(f)"
   ]
  },
  {
   "cell_type": "code",
   "execution_count": 5,
   "metadata": {},
   "outputs": [],
   "source": [
    "# Prepare the Word2Vec input for diagnosis\n",
    "corpusDiagnosis = []\n",
    "for subject_id, visits in data.items():\n",
    "    for hadm_id, features in visits.items():\n",
    "        corpusDiagnosis.append(features['diagnoses'])"
   ]
  },
  {
   "cell_type": "code",
   "execution_count": 6,
   "metadata": {},
   "outputs": [],
   "source": [
    "# Prepare the Word2Vec input for procedures\n",
    "corpusProcedures = []\n",
    "for subject_id, visits in data.items():\n",
    "    for hadm_id, features in visits.items():\n",
    "        corpusProcedures.append(features['procedures'])"
   ]
  },
  {
   "cell_type": "code",
   "execution_count": 7,
   "metadata": {},
   "outputs": [],
   "source": [
    "# Prepare the Word2Vec input for drugs\n",
    "corpusDrugs = []\n",
    "for subject_id, visits in data.items():\n",
    "    for hadm_id, features in visits.items():\n",
    "        corpusDrugs.append(features['drugs'])"
   ]
  },
  {
   "cell_type": "code",
   "execution_count": null,
   "metadata": {},
   "outputs": [],
   "source": [
    "# word2vec model 만들기\n",
    "\n",
    "word2vec_model = Word2Vec(\n",
    "    sentences=corpusProcedures,  \n",
    "    vector_size=100, # standard baseline size = 100\n",
    "    window=5, # 그냥 일딴 5로 설정  \n",
    "    min_count=1, # 한번 나온것도 중요하지 않을까? 라는 생각\n",
    "    workers=4,         \n",
    "    sg=1 # Skip-gram model (use sg=0 for CBOW)\n",
    ")\n",
    "\n",
    "word2vec_model.save(\"procedure_w2v_embeddings.model\")\n"
   ]
  },
  {
   "cell_type": "code",
   "execution_count": null,
   "metadata": {},
   "outputs": [
    {
     "name": "stdout",
     "output_type": "stream",
     "text": [
      "Vocabulary size: 5145\n",
      "Embedding for d_572: [ 0.43213654 -0.07269233 -0.35849983  0.1171606  -0.10541403  0.42179534\n",
      " -0.3777496   0.00635634 -0.0681117   0.54373664 -0.16981858 -0.04998092\n",
      " -0.8013413   0.33431193  0.13255507 -0.07952484 -0.02630047 -0.67499405\n",
      " -0.1532572   0.46115348 -0.1299382   0.31279632 -0.20523222 -0.01393937\n",
      " -0.31712964  0.1607313   0.09532557 -0.10853101  0.674924   -0.6551267\n",
      "  0.13211031 -0.36103818  0.32552233  0.00238413 -0.05489227 -0.40951723\n",
      " -0.10167913 -0.12177955 -0.11126038 -0.44760582  0.41310793  0.41556662\n",
      "  0.13027777  0.29256997 -0.00574209 -0.2293887  -0.11028181 -0.632644\n",
      "  0.12453412 -0.05511767 -0.30835095 -0.18154167 -0.0109947  -0.5619737\n",
      "  0.02250702 -0.4615514  -0.2117955  -0.39175692 -0.38175717 -0.15047053\n",
      "  0.5094287   0.3981909  -0.9996721  -1.0411705   0.10332346  0.32288644\n",
      " -0.22617443 -0.09451224 -0.1693531  -0.38064343  0.14339     0.10654876\n",
      " -0.6787372   0.15967907  0.2724633  -0.05568499 -0.88747454  0.07161202\n",
      " -0.32878315  0.10173641  0.6209849   0.12400509  0.0057395   0.5802503\n",
      "  0.49411854  0.9429695  -0.5879115   1.0764768  -0.35419676 -0.40983582\n",
      " -0.43691325 -0.18568408  0.16217898  0.14135899  0.40492466  0.14363043\n",
      "  0.7967761   0.41681188 -0.3173243   0.04372895]\n",
      "Most similar diagnoses to d_572: [('d_456', 0.9529329538345337), ('d_571', 0.8743190169334412), ('d_452', 0.8597096800804138), ('d_537', 0.8533105254173279), ('d_286', 0.8485572338104248), ('d_260', 0.83585524559021), ('d_120', 0.8294060826301575), ('d_155', 0.7994128465652466), ('d_265', 0.7825607657432556), ('d_284', 0.7734653949737549)]\n"
     ]
    }
   ],
   "source": [
    "# check word2vec model\n",
    "\n",
    "word2vec_model = Word2Vec.load(\"single_w2v_embeddings.model\")\n",
    "\n",
    "print(\"Vocabulary size:\", len(word2vec_model.wv.index_to_key))\n",
    "\n",
    "diagnosis_embedding = word2vec_model.wv['d_572']\n",
    "print(\"Embedding for d_572:\", diagnosis_embedding)\n",
    "\n",
    "similar_diagnoses = word2vec_model.wv.most_similar('d_572')\n",
    "print(\"Most similar diagnoses to d_572:\", similar_diagnoses)"
   ]
  }
 ],
 "metadata": {
  "kernelspec": {
   "display_name": "Python 3",
   "language": "python",
   "name": "python3"
  },
  "language_info": {
   "codemirror_mode": {
    "name": "ipython",
    "version": 3
   },
   "file_extension": ".py",
   "mimetype": "text/x-python",
   "name": "python",
   "nbconvert_exporter": "python",
   "pygments_lexer": "ipython3",
   "version": "3.11.9"
  }
 },
 "nbformat": 4,
 "nbformat_minor": 2
}
