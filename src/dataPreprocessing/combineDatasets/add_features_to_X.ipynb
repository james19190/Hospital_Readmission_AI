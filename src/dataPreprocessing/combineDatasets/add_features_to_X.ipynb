{
 "cells": [
  {
   "cell_type": "code",
   "execution_count": 3,
   "metadata": {},
   "outputs": [],
   "source": [
    "# imports\n",
    "\n",
    "import pickle\n",
    "import pandas as pd\n",
    "from datetime import datetime\n",
    "from sklearn.preprocessing import OneHotEncoder"
   ]
  },
  {
   "cell_type": "code",
   "execution_count": 5,
   "metadata": {},
   "outputs": [],
   "source": [
    "# load X data\n",
    "X_filePath = '../../../data/originalData/preprocessed_X_visit_over3.pkl'\n",
    "with open(X_filePath, 'rb') as f:\n",
    "    data = pickle.load(f)\n",
    "\n",
    "# load admission data\n",
    "admissions = pd.read_csv('../../../data/originalData/admissions.csv')"
   ]
  },
  {
   "cell_type": "code",
   "execution_count": 6,
   "metadata": {},
   "outputs": [],
   "source": [
    "#convert to datetime\n",
    "admissions['admittime'] = pd.to_datetime(admissions['admittime'])\n",
    "admissions['dischtime'] = pd.to_datetime(admissions['dischtime'])"
   ]
  },
  {
   "cell_type": "code",
   "execution_count": 7,
   "metadata": {},
   "outputs": [],
   "source": [
    "admissions['timespent'] = (admissions['dischtime'] - admissions['admittime']).dt.total_seconds() // 3600"
   ]
  },
  {
   "cell_type": "code",
   "execution_count": 11,
   "metadata": {},
   "outputs": [
    {
     "name": "stdout",
     "output_type": "stream",
     "text": [
      "   subject_id   hadm_id  timespent  admission_type      admission_location  \\\n",
      "0    10000032  22595853       18.0          URGENT  TRANSFER FROM HOSPITAL   \n",
      "1    10000032  22841357       24.0        EW EMER.          EMERGENCY ROOM   \n",
      "2    10000032  25742920       42.0        EW EMER.          EMERGENCY ROOM   \n",
      "3    10000032  29079034       53.0        EW EMER.          EMERGENCY ROOM   \n",
      "4    10000068  25022803        7.0  EU OBSERVATION          EMERGENCY ROOM   \n",
      "\n",
      "  insurance marital_status  hospital_expire_flag  \n",
      "0     Other        WIDOWED                     0  \n",
      "1  Medicaid        WIDOWED                     0  \n",
      "2  Medicaid        WIDOWED                     0  \n",
      "3  Medicaid        WIDOWED                     0  \n",
      "4     Other         SINGLE                     0  \n"
     ]
    }
   ],
   "source": [
    "# drop all unnecessary columns\n",
    "\n",
    "columns_to_keep = [\n",
    "    'subject_id', 'hadm_id', 'timespent', 'admission_type', \n",
    "    'admission_location', 'insurance', 'marital_status', \n",
    "    'hospital_expire_flag'\n",
    "]\n",
    "admissions = admissions[columns_to_keep]\n",
    "\n",
    "print(admissions.head())"
   ]
  },
  {
   "cell_type": "code",
   "execution_count": 12,
   "metadata": {},
   "outputs": [],
   "source": [
    "# Update the nested dictionary\n",
    "for subject_id, nested_dict in data.items():\n",
    "    for hadm_id, record in nested_dict.items():\n",
    "        # Find the matching row in admissions\n",
    "        match = admissions[(admissions['subject_id'] == subject_id) & (admissions['hadm_id'] == hadm_id)]\n",
    "        if not match.empty:\n",
    "            row = match.iloc[0]\n",
    "            # Add the new features\n",
    "            record['timespent'] = int(row['timespent'])\n",
    "            record['admission_type'] = row['admission_type']\n",
    "            record['admission_location'] = row['admission_location']\n",
    "            record['insurance'] = row['insurance']\n",
    "            record['marital_status'] = row['marital_status']\n",
    "            record['hospital_expire_flag'] = int(row['hospital_expire_flag'])"
   ]
  },
  {
   "cell_type": "code",
   "execution_count": 13,
   "metadata": {},
   "outputs": [
    {
     "name": "stdout",
     "output_type": "stream",
     "text": [
      "Top-level Key: 10000032\n",
      "Keys in nested dictionary: dict_keys([22595853, 22841357, 29079034])\n",
      "\n",
      "Nested Key: 22595853\n",
      "Type of value: <class 'dict'>\n",
      "Value sample: {'diagnoses': ['d_572', 'd_789', 'd_571', 'd_070', 'd_496', 'd_296', 'd_309'], 'procedures': ['pcs_549'], 'drugs': ['p_NACLFLUSH', 'p_SPIR25', 'p_RALT400', 'p_ALBU17H', 'p_FURO20', 'p_MICROK10', 'p_NICO14P', 'p_HEPA5I', 'p_SPIR25', 'p_IPRA2H', 'p_INFL0.5LF', 'p_TRUV200/300', 'p_FURO40', 'p_APAP500'], 'admitdate': '2180-05-06', 'timespent': 18, 'admission_type': 'URGENT', 'admission_location': 'TRANSFER FROM HOSPITAL', 'insurance': 'Other', 'marital_status': 'WIDOWED', 'hospital_expire_flag': 0}\n",
      "\n",
      "Nested Key: 22841357\n",
      "Type of value: <class 'dict'>\n",
      "Value sample: {'diagnoses': ['d_070', 'd_789', 'd_287', 'd_276', 'd_496', 'd_571', 'd_305'], 'procedures': ['pcs_549'], 'drugs': ['p_BACTDS', 'p_TIOT', 'p_RIFA550', 'p_APAP500', 'p_ALBU25', 'p_NACLFLUSH', 'p_RALT400', 'p_HEPA5I', 'p_TRUV200/300', 'p_CAL1250', 'p_FURO40', 'p_INFL0.5LF', 'p_FURO20', 'p_ALBU17H', 'p_LACT30L'], 'admitdate': '2180-06-26', 'timespent': 24, 'admission_type': 'EW EMER.', 'admission_location': 'EMERGENCY ROOM', 'insurance': 'Medicaid', 'marital_status': 'WIDOWED', 'hospital_expire_flag': 0}\n",
      "\n",
      "Nested Key: 29079034\n",
      "Type of value: <class 'dict'>\n",
      "Value sample: {'diagnoses': ['d_458', 'd_070', 'd_799', 'd_276', 'd_789', 'd_276', 'd_305', 'd_496', 'd_296', 'd_571'], 'procedures': [], 'drugs': ['p_TRAM50', 'p_TIOT', 'p_TRUV200/300', 'p_ALBU25', 'p_TRAM50', 'p_FLUT110HFA', 'p_RIFA550', 'p_SENN187', 'p_INFL0.5LF', 'p_BISA5', 'p_ALBU3H', 'p_BISA10R', 'p_CALC500', 'p_ALBU17H', 'p_RALT400', 'p_DOCU100L', 'p_DOCU100L', 'p_SENN187', 'p_NACLFLUSH', 'p_BISA5', 'p_BISA10R', 'p_LACT30L', 'p_ALBU25', 'p_HEPA5I'], 'admitdate': '2180-07-23', 'timespent': 53, 'admission_type': 'EW EMER.', 'admission_location': 'EMERGENCY ROOM', 'insurance': 'Medicaid', 'marital_status': 'WIDOWED', 'hospital_expire_flag': 0}\n"
     ]
    }
   ],
   "source": [
    "def explore_nested_dict(data, top_key):\n",
    "    if top_key in data:\n",
    "        nested_dict = data[top_key]\n",
    "        print(f\"Top-level Key: {top_key}\")\n",
    "        print(f\"Keys in nested dictionary: {nested_dict.keys()}\")\n",
    "        \n",
    "        # Inspect one of the nested keys in detail\n",
    "        for nested_key in nested_dict:\n",
    "            print(f\"\\nNested Key: {nested_key}\")\n",
    "            print(f\"Type of value: {type(nested_dict[nested_key])}\")\n",
    "            print(f\"Value sample: {nested_dict[nested_key]}\")\n",
    "    else:\n",
    "        print(f\"Key {top_key} not found in the data.\")\n",
    "\n",
    "\n",
    "top_key_to_inspect = 10000032\n",
    "\n",
    "explore_nested_dict(data, top_key_to_inspect)"
   ]
  },
  {
   "cell_type": "code",
   "execution_count": null,
   "metadata": {},
   "outputs": [
    {
     "name": "stdout",
     "output_type": "stream",
     "text": [
      "Updated file saved as preprocessed_X_visit_over3_updated.pkl\n"
     ]
    }
   ],
   "source": [
    "with open('X_Admin.pkl', 'wb') as f:\n",
    "    pickle.dump(data, f)\n",
    "\n",
    "print(\"Updated file saved as preprocessed_X_visit_over3_updated.pkl\")"
   ]
  }
 ],
 "metadata": {
  "kernelspec": {
   "display_name": "Python 3",
   "language": "python",
   "name": "python3"
  },
  "language_info": {
   "codemirror_mode": {
    "name": "ipython",
    "version": 3
   },
   "file_extension": ".py",
   "mimetype": "text/x-python",
   "name": "python",
   "nbconvert_exporter": "python",
   "pygments_lexer": "ipython3",
   "version": "3.12.3"
  }
 },
 "nbformat": 4,
 "nbformat_minor": 2
}
