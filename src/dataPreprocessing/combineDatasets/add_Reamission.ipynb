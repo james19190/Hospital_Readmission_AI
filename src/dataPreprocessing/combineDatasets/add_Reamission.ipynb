{
 "cells": [
  {
   "cell_type": "code",
   "execution_count": 31,
   "metadata": {},
   "outputs": [],
   "source": [
    "# imports\n",
    "\n",
    "import pandas as pd\n",
    "import pickle\n",
    "from datetime import datetime"
   ]
  },
  {
   "cell_type": "code",
   "execution_count": 32,
   "metadata": {},
   "outputs": [],
   "source": [
    "# load admission data\n",
    "admissions = pd.read_csv('../../../data/originalData/admissions.csv')\n",
    "\n",
    "# load X data\n",
    "X_filePath = '../../../data/processedData/X_Admin.pkl'\n",
    "with open(X_filePath, 'rb') as f:\n",
    "    data = pickle.load(f)"
   ]
  },
  {
   "cell_type": "code",
   "execution_count": 33,
   "metadata": {},
   "outputs": [],
   "source": [
    "# Ensure datetime columns are in proper datetime format\n",
    "admissions['admittime'] = pd.to_datetime(admissions['admittime'])\n",
    "admissions['dischtime'] = pd.to_datetime(admissions['dischtime'])"
   ]
  },
  {
   "cell_type": "code",
   "execution_count": 34,
   "metadata": {},
   "outputs": [],
   "source": [
    "# Sort Admissions by first subj, then by admittime\n",
    "admissions = admissions.sort_values(by=['subject_id', 'admittime'])"
   ]
  },
  {
   "cell_type": "code",
   "execution_count": 35,
   "metadata": {},
   "outputs": [],
   "source": [
    "# Shift admittime to get the next admission time for each subject\n",
    "admissions['next_admittime'] = admissions.groupby('subject_id')['admittime'].shift(-1)\n",
    "\n",
    "# Calculate days to next admission based on dischtime\n",
    "admissions['days_to_next_admission'] = (admissions['next_admittime'] - admissions['dischtime']).dt.total_seconds() / (60 * 60 * 24)\n",
    "\n",
    "# Define target variables for readmission within 30 and 60 days\n",
    "admissions['readmitted_30'] = ((admissions['days_to_next_admission'] > 0) & \n",
    "                               (admissions['days_to_next_admission'] <= 30)).astype(int)\n",
    "admissions['readmitted_60'] = ((admissions['days_to_next_admission'] > 0) & \n",
    "                               (admissions['days_to_next_admission'] <= 60)).astype(int)\n",
    "\n",
    "# Fill NaN values in the target variables with 0 (no readmission)\n",
    "admissions[['readmitted_30', 'readmitted_60']] = admissions[['readmitted_30', 'readmitted_60']].fillna(0).astype(int)\n"
   ]
  },
  {
   "cell_type": "code",
   "execution_count": 36,
   "metadata": {},
   "outputs": [
    {
     "name": "stdout",
     "output_type": "stream",
     "text": [
      "   subject_id   hadm_id           admittime           dischtime deathtime  \\\n",
      "0    10000032  22595853 2180-05-06 22:23:00 2180-05-07 17:15:00       NaN   \n",
      "1    10000032  22841357 2180-06-26 18:27:00 2180-06-27 18:49:00       NaN   \n",
      "3    10000032  29079034 2180-07-23 12:35:00 2180-07-25 17:55:00       NaN   \n",
      "2    10000032  25742920 2180-08-05 23:44:00 2180-08-07 17:50:00       NaN   \n",
      "4    10000068  25022803 2160-03-03 23:16:00 2160-03-04 06:26:00       NaN   \n",
      "5    10000084  23052089 2160-11-21 01:56:00 2160-11-25 14:52:00       NaN   \n",
      "6    10000084  29888819 2160-12-28 05:11:00 2160-12-28 16:07:00       NaN   \n",
      "7    10000108  27250926 2163-09-27 23:17:00 2163-09-28 09:04:00       NaN   \n",
      "8    10000117  22927623 2181-11-15 02:05:00 2181-11-15 14:52:00       NaN   \n",
      "9    10000117  27988844 2183-09-18 18:10:00 2183-09-21 16:30:00       NaN   \n",
      "\n",
      "      admission_type      admission_location discharge_location insurance  \\\n",
      "0             URGENT  TRANSFER FROM HOSPITAL               HOME     Other   \n",
      "1           EW EMER.          EMERGENCY ROOM               HOME  Medicaid   \n",
      "3           EW EMER.          EMERGENCY ROOM               HOME  Medicaid   \n",
      "2           EW EMER.          EMERGENCY ROOM            HOSPICE  Medicaid   \n",
      "4     EU OBSERVATION          EMERGENCY ROOM                NaN     Other   \n",
      "5           EW EMER.   WALK-IN/SELF REFERRAL   HOME HEALTH CARE  Medicare   \n",
      "6     EU OBSERVATION      PHYSICIAN REFERRAL                NaN  Medicare   \n",
      "7     EU OBSERVATION          EMERGENCY ROOM                NaN     Other   \n",
      "8     EU OBSERVATION          EMERGENCY ROOM                NaN     Other   \n",
      "9  OBSERVATION ADMIT   WALK-IN/SELF REFERRAL   HOME HEALTH CARE     Other   \n",
      "\n",
      "  language marital_status   race            edregtime            edouttime  \\\n",
      "0  ENGLISH        WIDOWED  WHITE  2180-05-06 19:17:00  2180-05-06 23:30:00   \n",
      "1  ENGLISH        WIDOWED  WHITE  2180-06-26 15:54:00  2180-06-26 21:31:00   \n",
      "3  ENGLISH        WIDOWED  WHITE  2180-07-23 05:54:00  2180-07-23 14:00:00   \n",
      "2  ENGLISH        WIDOWED  WHITE  2180-08-05 20:58:00  2180-08-06 01:44:00   \n",
      "4  ENGLISH         SINGLE  WHITE  2160-03-03 21:55:00  2160-03-04 06:26:00   \n",
      "5  ENGLISH        MARRIED  WHITE  2160-11-20 20:36:00  2160-11-21 03:20:00   \n",
      "6  ENGLISH        MARRIED  WHITE  2160-12-27 18:32:00  2160-12-28 16:07:00   \n",
      "7  ENGLISH         SINGLE  WHITE  2163-09-27 16:18:00  2163-09-28 09:04:00   \n",
      "8  ENGLISH       DIVORCED  WHITE  2181-11-14 21:51:00  2181-11-15 09:57:00   \n",
      "9  ENGLISH       DIVORCED  WHITE  2183-09-18 08:41:00  2183-09-18 20:20:00   \n",
      "\n",
      "   hospital_expire_flag      next_admittime  days_to_next_admission  \\\n",
      "0                     0 2180-06-26 18:27:00               50.050000   \n",
      "1                     0 2180-07-23 12:35:00               25.740278   \n",
      "3                     0 2180-08-05 23:44:00               11.242361   \n",
      "2                     0                 NaT                     NaN   \n",
      "4                     0                 NaT                     NaN   \n",
      "5                     0 2160-12-28 05:11:00               32.596528   \n",
      "6                     0                 NaT                     NaN   \n",
      "7                     0                 NaT                     NaN   \n",
      "8                     0 2183-09-18 18:10:00              672.137500   \n",
      "9                     0                 NaT                     NaN   \n",
      "\n",
      "   readmitted_30  readmitted_60  \n",
      "0              0              1  \n",
      "1              1              1  \n",
      "3              1              1  \n",
      "2              0              0  \n",
      "4              0              0  \n",
      "5              0              1  \n",
      "6              0              0  \n",
      "7              0              0  \n",
      "8              0              0  \n",
      "9              0              0  \n"
     ]
    }
   ],
   "source": [
    "print(admissions.head(10))"
   ]
  },
  {
   "cell_type": "code",
   "execution_count": 37,
   "metadata": {},
   "outputs": [],
   "source": [
    "# Add the calculated fields to the data dictionary\n",
    "\n",
    "for subject_id, nested_dict in data.items():\n",
    "    for hadm_id, record in nested_dict.items():\n",
    "        # Find the matching row in admissions\n",
    "        match = admissions[(admissions['subject_id'] == subject_id) & (admissions['hadm_id'] == hadm_id)]\n",
    "        if not match.empty:\n",
    "            row = match.iloc[0]\n",
    "            # Add the calculated fields\n",
    "            record['days_to_next_admission'] = row['days_to_next_admission']\n",
    "            record['readmitted_30'] = row['readmitted_30']\n",
    "            record['readmitted_60'] = row['readmitted_60']"
   ]
  },
  {
   "cell_type": "code",
   "execution_count": 39,
   "metadata": {},
   "outputs": [
    {
     "name": "stdout",
     "output_type": "stream",
     "text": [
      "Top-level Key: 10000032\n",
      "Keys in nested dictionary: dict_keys([22595853, 22841357, 29079034])\n",
      "\n",
      "Nested Key: 22595853\n",
      "Type of value: <class 'dict'>\n",
      "Value sample: {'diagnoses': ['d_572', 'd_789', 'd_571', 'd_070', 'd_496', 'd_296', 'd_309'], 'procedures': ['pcs_549'], 'drugs': ['p_NACLFLUSH', 'p_SPIR25', 'p_RALT400', 'p_ALBU17H', 'p_FURO20', 'p_MICROK10', 'p_NICO14P', 'p_HEPA5I', 'p_SPIR25', 'p_IPRA2H', 'p_INFL0.5LF', 'p_TRUV200/300', 'p_FURO40', 'p_APAP500'], 'admitdate': '2180-05-06', 'timespent': 18, 'admission_type': 'URGENT', 'admission_location': 'TRANSFER FROM HOSPITAL', 'insurance': 'Other', 'marital_status': 'WIDOWED', 'hospital_expire_flag': 0, 'days_to_next_admission': 50.05, 'readmitted_30': 0, 'readmitted_60': 1}\n",
      "\n",
      "Nested Key: 22841357\n",
      "Type of value: <class 'dict'>\n",
      "Value sample: {'diagnoses': ['d_070', 'd_789', 'd_287', 'd_276', 'd_496', 'd_571', 'd_305'], 'procedures': ['pcs_549'], 'drugs': ['p_BACTDS', 'p_TIOT', 'p_RIFA550', 'p_APAP500', 'p_ALBU25', 'p_NACLFLUSH', 'p_RALT400', 'p_HEPA5I', 'p_TRUV200/300', 'p_CAL1250', 'p_FURO40', 'p_INFL0.5LF', 'p_FURO20', 'p_ALBU17H', 'p_LACT30L'], 'admitdate': '2180-06-26', 'timespent': 24, 'admission_type': 'EW EMER.', 'admission_location': 'EMERGENCY ROOM', 'insurance': 'Medicaid', 'marital_status': 'WIDOWED', 'hospital_expire_flag': 0, 'days_to_next_admission': 25.740277777777777, 'readmitted_30': 1, 'readmitted_60': 1}\n",
      "\n",
      "Nested Key: 29079034\n",
      "Type of value: <class 'dict'>\n",
      "Value sample: {'diagnoses': ['d_458', 'd_070', 'd_799', 'd_276', 'd_789', 'd_276', 'd_305', 'd_496', 'd_296', 'd_571'], 'procedures': [], 'drugs': ['p_TRAM50', 'p_TIOT', 'p_TRUV200/300', 'p_ALBU25', 'p_TRAM50', 'p_FLUT110HFA', 'p_RIFA550', 'p_SENN187', 'p_INFL0.5LF', 'p_BISA5', 'p_ALBU3H', 'p_BISA10R', 'p_CALC500', 'p_ALBU17H', 'p_RALT400', 'p_DOCU100L', 'p_DOCU100L', 'p_SENN187', 'p_NACLFLUSH', 'p_BISA5', 'p_BISA10R', 'p_LACT30L', 'p_ALBU25', 'p_HEPA5I'], 'admitdate': '2180-07-23', 'timespent': 53, 'admission_type': 'EW EMER.', 'admission_location': 'EMERGENCY ROOM', 'insurance': 'Medicaid', 'marital_status': 'WIDOWED', 'hospital_expire_flag': 0, 'days_to_next_admission': 11.24236111111111, 'readmitted_30': 1, 'readmitted_60': 1}\n"
     ]
    }
   ],
   "source": [
    "def explore_nested_dict(data, top_key):\n",
    "    if top_key in data:\n",
    "        nested_dict = data[top_key]\n",
    "        print(f\"Top-level Key: {top_key}\")\n",
    "        print(f\"Keys in nested dictionary: {nested_dict.keys()}\")\n",
    "        \n",
    "        # Inspect one of the nested keys in detail\n",
    "        for nested_key in nested_dict:\n",
    "            print(f\"\\nNested Key: {nested_key}\")\n",
    "            print(f\"Type of value: {type(nested_dict[nested_key])}\")\n",
    "            print(f\"Value sample: {nested_dict[nested_key]}\")\n",
    "    else:\n",
    "        print(f\"Key {top_key} not found in the data.\")\n",
    "\n",
    "\n",
    "top_key_to_inspect = 10000032\n",
    "\n",
    "explore_nested_dict(data, top_key_to_inspect)"
   ]
  },
  {
   "cell_type": "code",
   "execution_count": 38,
   "metadata": {},
   "outputs": [
    {
     "name": "stdout",
     "output_type": "stream",
     "text": [
      "Updated dictionary saved to ../../../data/processedData/X_Admin_Targets.pkl\n"
     ]
    }
   ],
   "source": [
    "output_file_path = '../../../data/processedData/X_Admin_Targets.pkl'\n",
    "with open(output_file_path, 'wb') as f:\n",
    "    pickle.dump(data, f)\n",
    "\n",
    "print(f\"Updated dictionary saved to {output_file_path}\")"
   ]
  },
  {
   "cell_type": "code",
   "execution_count": null,
   "metadata": {},
   "outputs": [
    {
     "name": "stdout",
     "output_type": "stream",
     "text": [
      "Total Admissions: 214752\n",
      "Readmitted within 30 days: 74456 (34.67%)\n",
      "Readmitted within 60 days: 99901 (46.52%)\n"
     ]
    }
   ],
   "source": [
    "# calculate the percentage of patients readmitted within 30 and 60 days\n",
    "\n",
    "total_admissions = 0\n",
    "readmitted_30_count = 0\n",
    "readmitted_60_count = 0\n",
    "\n",
    "for subject_id, nested_dict in data.items():\n",
    "    for hadm_id, record in nested_dict.items():\n",
    "        total_admissions += 1  \n",
    "        if record.get('readmitted_30', 0) == 1:  \n",
    "            readmitted_30_count += 1\n",
    "        if record.get('readmitted_60', 0) == 1:  \n",
    "            readmitted_60_count += 1\n",
    "\n",
    "\n",
    "percentage_readmitted_30 = (readmitted_30_count / total_admissions) * 100\n",
    "percentage_readmitted_60 = (readmitted_60_count / total_admissions) * 100\n",
    "\n",
    "\n",
    "print(f\"Total Admissions: {total_admissions}\")\n",
    "print(f\"Readmitted within 30 days: {readmitted_30_count} ({percentage_readmitted_30:.2f}%)\")\n",
    "print(f\"Readmitted within 60 days: {readmitted_60_count} ({percentage_readmitted_60:.2f}%)\")\n"
   ]
  },
  {
   "cell_type": "code",
   "execution_count": 41,
   "metadata": {},
   "outputs": [
    {
     "name": "stdout",
     "output_type": "stream",
     "text": [
      "Top-level Key: 10000032\n",
      "Keys in nested dictionary: dict_keys([22595853, 22841357, 29079034])\n",
      "\n",
      "Nested Key: 22595853\n",
      "Type of value: <class 'dict'>\n",
      "Value sample: {'diagnoses': ['d_572', 'd_789', 'd_571', 'd_070', 'd_496', 'd_296', 'd_309'], 'procedures': ['pcs_549'], 'drugs': ['p_NACLFLUSH', 'p_SPIR25', 'p_RALT400', 'p_ALBU17H', 'p_FURO20', 'p_MICROK10', 'p_NICO14P', 'p_HEPA5I', 'p_SPIR25', 'p_IPRA2H', 'p_INFL0.5LF', 'p_TRUV200/300', 'p_FURO40', 'p_APAP500'], 'admitdate': '2180-05-06', 'timespent': 18, 'admission_type': 'URGENT', 'admission_location': 'TRANSFER FROM HOSPITAL', 'insurance': 'Other', 'marital_status': 'WIDOWED', 'hospital_expire_flag': 0, 'days_to_next_admission': 50.05, 'readmitted_30': 0, 'readmitted_60': 1}\n",
      "\n",
      "Nested Key: 22841357\n",
      "Type of value: <class 'dict'>\n",
      "Value sample: {'diagnoses': ['d_070', 'd_789', 'd_287', 'd_276', 'd_496', 'd_571', 'd_305'], 'procedures': ['pcs_549'], 'drugs': ['p_BACTDS', 'p_TIOT', 'p_RIFA550', 'p_APAP500', 'p_ALBU25', 'p_NACLFLUSH', 'p_RALT400', 'p_HEPA5I', 'p_TRUV200/300', 'p_CAL1250', 'p_FURO40', 'p_INFL0.5LF', 'p_FURO20', 'p_ALBU17H', 'p_LACT30L'], 'admitdate': '2180-06-26', 'timespent': 24, 'admission_type': 'EW EMER.', 'admission_location': 'EMERGENCY ROOM', 'insurance': 'Medicaid', 'marital_status': 'WIDOWED', 'hospital_expire_flag': 0, 'days_to_next_admission': 25.740277777777777, 'readmitted_30': 1, 'readmitted_60': 1}\n",
      "\n",
      "Nested Key: 29079034\n",
      "Type of value: <class 'dict'>\n",
      "Value sample: {'diagnoses': ['d_458', 'd_070', 'd_799', 'd_276', 'd_789', 'd_276', 'd_305', 'd_496', 'd_296', 'd_571'], 'procedures': [], 'drugs': ['p_TRAM50', 'p_TIOT', 'p_TRUV200/300', 'p_ALBU25', 'p_TRAM50', 'p_FLUT110HFA', 'p_RIFA550', 'p_SENN187', 'p_INFL0.5LF', 'p_BISA5', 'p_ALBU3H', 'p_BISA10R', 'p_CALC500', 'p_ALBU17H', 'p_RALT400', 'p_DOCU100L', 'p_DOCU100L', 'p_SENN187', 'p_NACLFLUSH', 'p_BISA5', 'p_BISA10R', 'p_LACT30L', 'p_ALBU25', 'p_HEPA5I'], 'admitdate': '2180-07-23', 'timespent': 53, 'admission_type': 'EW EMER.', 'admission_location': 'EMERGENCY ROOM', 'insurance': 'Medicaid', 'marital_status': 'WIDOWED', 'hospital_expire_flag': 0, 'days_to_next_admission': 11.24236111111111, 'readmitted_30': 1, 'readmitted_60': 1}\n"
     ]
    }
   ],
   "source": [
    "explore_nested_dict(data, top_key_to_inspect)"
   ]
  }
 ],
 "metadata": {
  "kernelspec": {
   "display_name": "Python 3",
   "language": "python",
   "name": "python3"
  },
  "language_info": {
   "codemirror_mode": {
    "name": "ipython",
    "version": 3
   },
   "file_extension": ".py",
   "mimetype": "text/x-python",
   "name": "python",
   "nbconvert_exporter": "python",
   "pygments_lexer": "ipython3",
   "version": "3.12.3"
  }
 },
 "nbformat": 4,
 "nbformat_minor": 2
}
